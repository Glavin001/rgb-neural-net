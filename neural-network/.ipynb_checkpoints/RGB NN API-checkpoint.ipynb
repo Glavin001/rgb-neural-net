{
 "cells": [
  {
   "cell_type": "markdown",
   "metadata": {},
   "source": [
    "## API class for displaying NN weights on RGB nodes"
   ]
  },
  {
   "cell_type": "code",
   "execution_count": 24,
   "metadata": {
    "collapsed": false
   },
   "outputs": [],
   "source": [
    "import urllib.request\n",
    "import json\n",
    "import numpy as np\n",
    "import pandas as pd\n",
    "import colorsys\n",
    "\n",
    "class RGB_NN():\n",
    "# class for displaying NN weights on RGB NN of shape (2:3:2)\n",
    "\n",
    "    _server_loc = 'http://192.168.1.162:5000'\n",
    "    _url = _server_loc +'/change_leds'\n",
    "    \n",
    "    _blank_led_json = {\"red\":0, \"green\":0, \"blue\":0, \"led_num\":0}\n",
    "    _led_num = 44\n",
    "    _blank_led_json = {\"leds\":[{**_blank_led_json, \"led_num\":i} for i in range(_led_num)]}\n",
    "    \n",
    "    _brightness = 1\n",
    "    \n",
    "    def __init__(self, server_loc):\n",
    "        self._server_loc = server_loc\n",
    "        \n",
    "    def display_weights(self, clf):\n",
    "        pass\n",
    "    \n",
    "    \n",
    "    def _send_json(self, led_json):\n",
    "        params = json.dumps(led_json).encode('utf8')\n",
    "        req = urllib.request.Request(_url, data=params,\n",
    "                                  headers={'content-type': 'application/json'})\n",
    "        response = urllib.request.urlopen(req)\n",
    "        \n",
    "    def _turn_off(self):\n",
    "        _send_json(_blank_led_json)\n",
    "    \n",
    "    def _val_to_rgb(self, val):\n",
    "    # return [RED, GREEN, BLUE] for decimal 0.0 -> 1.0\n",
    "        i = val*0.67\n",
    "        c = colorsys.hsv_to_rgb(i,1,1)\n",
    "        return [int((color*255)*self._brightness) for color in c]\n",
    "    \n",
    "    \n",
    "    "
   ]
  },
  {
   "cell_type": "code",
   "execution_count": 7,
   "metadata": {
    "collapsed": true
   },
   "outputs": [],
   "source": [
    "con = RGB_NN(1892018)"
   ]
  },
  {
   "cell_type": "code",
   "execution_count": 8,
   "metadata": {
    "collapsed": false
   },
   "outputs": [
    {
     "data": {
      "text/plain": [
       "1892018"
      ]
     },
     "execution_count": 8,
     "metadata": {},
     "output_type": "execute_result"
    }
   ],
   "source": [
    "con._server_loc"
   ]
  },
  {
   "cell_type": "code",
   "execution_count": 18,
   "metadata": {
    "collapsed": true
   },
   "outputs": [],
   "source": []
  },
  {
   "cell_type": "code",
   "execution_count": 23,
   "metadata": {
    "collapsed": false
   },
   "outputs": [
    {
     "data": {
      "text/plain": [
       "[253, 255, 0]"
      ]
     },
     "execution_count": 23,
     "metadata": {},
     "output_type": "execute_result"
    }
   ],
   "source": [
    "val_to_rgb(0.25)"
   ]
  },
  {
   "cell_type": "code",
   "execution_count": null,
   "metadata": {
    "collapsed": true
   },
   "outputs": [],
   "source": []
  }
 ],
 "metadata": {
  "kernelspec": {
   "display_name": "Python 3",
   "language": "python",
   "name": "python3"
  },
  "language_info": {
   "codemirror_mode": {
    "name": "ipython",
    "version": 3
   },
   "file_extension": ".py",
   "mimetype": "text/x-python",
   "name": "python",
   "nbconvert_exporter": "python",
   "pygments_lexer": "ipython3",
   "version": "3.5.2"
  }
 },
 "nbformat": 4,
 "nbformat_minor": 0
}
