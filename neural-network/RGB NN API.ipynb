{
 "cells": [
  {
   "cell_type": "markdown",
   "metadata": {},
   "source": [
    "## API class for displaying NN weights on RGB nodes"
   ]
  },
  {
   "cell_type": "code",
   "execution_count": 7,
   "metadata": {
    "collapsed": false
   },
   "outputs": [
    {
     "name": "stdout",
     "output_type": "stream",
     "text": [
      "Overwriting rgb_nn.py\n"
     ]
    }
   ],
   "source": [
    "%%writefile rgb_nn.py\n",
    "\n",
    "import urllib.request\n",
    "import json\n",
    "import numpy as np\n",
    "import pandas as pd\n",
    "import colorsys\n",
    "from pprint import pprint\n",
    "\n",
    "class RGB_NN():\n",
    "# class for displaying NN weights on RGB NN of shape (2:3:2)\n",
    "\n",
    "    _server_loc = 'http://192.168.1.162:5000'\n",
    "    _url = _server_loc +'/change_leds'\n",
    "    \n",
    "    _blank_led_json = {\"red\":0, \"green\":0, \"blue\":0, \"led_num\":0}\n",
    "    _led_num = 44\n",
    "    _blank_leds_json = {}\n",
    "    \n",
    "    _brightness = 1\n",
    "    _scale = (-1,1)\n",
    "    _verbose = False\n",
    "    _dummy_api = False\n",
    "    \n",
    "    def __init__(self, server_loc, scale=None):\n",
    "        self._server_loc = server_loc\n",
    "        self._blank_leds_json = {\"leds\":[{**self._blank_led_json, \"led_num\":i} for i in range(self._led_num)]}\n",
    "        self._scale = scale if scale else self._scale\n",
    "        \n",
    "    def display_weights(self, clf):\n",
    "        led_json = {\"leds\": self._make_led_coef_vals(clf)}\n",
    "        return self._send_json(led_json)\n",
    "    \n",
    "    \n",
    "    def _send_json(self, led_json):\n",
    "        if self._dummy_api:\n",
    "            return led_json\n",
    "        params = json.dumps(led_json).encode('utf8')\n",
    "        req = urllib.request.Request(_url, data=params,\n",
    "                                  headers={'content-type': 'application/json'})\n",
    "        response = urllib.request.urlopen(req)\n",
    "        return True\n",
    "        \n",
    "    def _turn_off(self):\n",
    "        _send_json(_blank_leds_json)\n",
    "        \n",
    "    def _cap_val(self, val):\n",
    "        if val > self._scale[1]:\n",
    "            return self._scale[1]\n",
    "        elif val < self._scale[0]:\n",
    "            return self._scale[0]\n",
    "        else:\n",
    "            return val\n",
    "    \n",
    "    def _norm_val(self, val):\n",
    "        capped = self._cap_val(val)\n",
    "        shifted = capped - self._scale[0]\n",
    "        scaled = shifted / (self._scale[1] - self._scale[0])\n",
    "        return scaled\n",
    "    \n",
    "    def _val_to_rgb(self, val):\n",
    "        ''' \n",
    "            return [RED, GREEN, BLUE] for decimal 0.0 -> 1.0 \n",
    "        '''\n",
    "        i = self._norm_val(val)\n",
    "        c = colorsys.hsv_to_rgb(i,1,1)\n",
    "        rgb = [int((color*255)*self._brightness) for color in c]\n",
    "        if self._verbose:\n",
    "            print('val {0} normed to {1} to color {2}'.format(val,i,rgb))\n",
    "        return rgb\n",
    "    \n",
    "    def _led_json_with_rgb_value(self, led_num, val):\n",
    "        r, g, b = self._val_to_rgb(val)\n",
    "        if self._verbose:\n",
    "            print('mapping led {0}'.format(led_num))\n",
    "        return {\"led_num\":led_num, \"red\":r, \"green\":g, \"blue\":b}\n",
    "    \n",
    "    \n",
    "    # led mappings\n",
    "\n",
    "    _input_layer_bias = [\n",
    "        [8,9],\n",
    "        [3,4]\n",
    "    ]\n",
    "\n",
    "    _input_layer_weights = [\n",
    "        [[5,11],[6,20],[7,28]],\n",
    "        [[0,10],[1,18],[2,27]]\n",
    "    ]\n",
    "\n",
    "    _hidden_layer_bias = [\n",
    "        [13,14],\n",
    "        [21,22],\n",
    "        [29,30]\n",
    "    ]\n",
    "\n",
    "    _hidden_layer_weights = [\n",
    "        [[16,41],[15,36]],\n",
    "        [[23,40],[25,35]],\n",
    "        [[31,39],[32,34]]\n",
    "    ]\n",
    "\n",
    "    _output_layer_bias = [\n",
    "        [42,43],\n",
    "        [37,38]\n",
    "    ]\n",
    "    \n",
    "    def _map_weights_to_leds(self, coefs, led_map):\n",
    "        leds = []\n",
    "        for i,v in enumerate(led_map):\n",
    "            for i2,v2 in enumerate(v):\n",
    "                for led in v2:\n",
    "                    led_json = self._led_json_with_rgb_value(led, coefs[i][i2])\n",
    "                    leds.append(led_json)\n",
    "        return leds\n",
    "\n",
    "    def _map_biases_to_leds(self,bias, led_map):\n",
    "        leds = []\n",
    "        for i,v in enumerate(led_map):\n",
    "            for led in v:\n",
    "                led_json = self._led_json_with_rgb_value(led, bias[i])\n",
    "                leds.append(led_json)\n",
    "        if self._verbose:\n",
    "            print('did biases {0}'.format(leds))\n",
    "        return leds\n",
    "\n",
    "    def _make_led_coef_vals(self, clf):\n",
    "        leds = []\n",
    "        leds += self._map_weights_to_leds(clf.coefs_[0], self._input_layer_weights)\n",
    "        leds += self._map_weights_to_leds(clf.coefs_[1], self._hidden_layer_weights)\n",
    "        leds += self._map_biases_to_leds(clf.intercepts_[0], self._hidden_layer_bias)\n",
    "        leds += self._map_biases_to_leds(clf.intercepts_[1], self._output_layer_bias)\n",
    "        return leds"
   ]
  },
  {
   "cell_type": "code",
   "execution_count": 30,
   "metadata": {
    "collapsed": true
   },
   "outputs": [],
   "source": [
    "con = RGB_NN(1892018)"
   ]
  },
  {
   "cell_type": "code",
   "execution_count": 28,
   "metadata": {
    "collapsed": false
   },
   "outputs": [
    {
     "data": {
      "text/plain": [
       "1892018"
      ]
     },
     "execution_count": 28,
     "metadata": {},
     "output_type": "execute_result"
    }
   ],
   "source": [
    "con.display_weights()"
   ]
  },
  {
   "cell_type": "code",
   "execution_count": 47,
   "metadata": {
    "collapsed": false
   },
   "outputs": [
    {
     "ename": "NameError",
     "evalue": "name 'floor' is not defined",
     "output_type": "error",
     "traceback": [
      "\u001b[0;31m---------------------------------------------------------------------------\u001b[0m",
      "\u001b[0;31mNameError\u001b[0m                                 Traceback (most recent call last)",
      "\u001b[0;32m<ipython-input-47-1c7a33451d9a>\u001b[0m in \u001b[0;36m<module>\u001b[0;34m()\u001b[0m\n\u001b[0;32m----> 1\u001b[0;31m \u001b[0mfloor\u001b[0m\u001b[0;34m(\u001b[0m\u001b[0;36m2\u001b[0m\u001b[0;34m)\u001b[0m\u001b[0;34m\u001b[0m\u001b[0m\n\u001b[0m",
      "\u001b[0;31mNameError\u001b[0m: name 'floor' is not defined"
     ]
    }
   ],
   "source": [
    "floor(2)"
   ]
  },
  {
   "cell_type": "code",
   "execution_count": null,
   "metadata": {
    "collapsed": true
   },
   "outputs": [],
   "source": []
  }
 ],
 "metadata": {
  "kernelspec": {
   "display_name": "Python 3",
   "language": "python",
   "name": "python3"
  },
  "language_info": {
   "codemirror_mode": {
    "name": "ipython",
    "version": 3
   },
   "file_extension": ".py",
   "mimetype": "text/x-python",
   "name": "python",
   "nbconvert_exporter": "python",
   "pygments_lexer": "ipython3",
   "version": "3.5.2"
  }
 },
 "nbformat": 4,
 "nbformat_minor": 0
}
