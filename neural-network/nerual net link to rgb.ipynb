{
 "cells": [
  {
   "cell_type": "code",
   "execution_count": 1,
   "metadata": {
    "collapsed": true
   },
   "outputs": [],
   "source": [
    "import time"
   ]
  },
  {
   "cell_type": "code",
   "execution_count": 2,
   "metadata": {
    "collapsed": false
   },
   "outputs": [],
   "source": [
    "from sklearn.neural_network import MLPClassifier\n",
    "from sklearn import datasets, preprocessing\n",
    "from sklearn.model_selection import train_test_split\n",
    "import numpy as np"
   ]
  },
  {
   "cell_type": "code",
   "execution_count": 3,
   "metadata": {
    "collapsed": true
   },
   "outputs": [],
   "source": [
    "iris = datasets.load_iris()"
   ]
  },
  {
   "cell_type": "code",
   "execution_count": 4,
   "metadata": {
    "collapsed": false
   },
   "outputs": [],
   "source": [
    "X = preprocessing.normalize(iris.data[:, :2],axis=1)  # we only take the first two features.\n",
    "y = iris.target"
   ]
  },
  {
   "cell_type": "code",
   "execution_count": 5,
   "metadata": {
    "collapsed": true
   },
   "outputs": [],
   "source": [
    "X_train, X_test, y_train, y_test = train_test_split(\n",
    "    X, y, test_size=0.33, random_state=42)"
   ]
  },
  {
   "cell_type": "code",
   "execution_count": 6,
   "metadata": {
    "collapsed": false
   },
   "outputs": [],
   "source": [
    "clf = MLPClassifier(solver='lbfgs', alpha=1e-5, max_iter=1, warm_start=True,\n",
    "                    hidden_layer_sizes=(5), random_state=1)"
   ]
  },
  {
   "cell_type": "code",
   "execution_count": 7,
   "metadata": {
    "collapsed": false
   },
   "outputs": [],
   "source": [
    "def get_all_weights(clf):\n",
    "    all_weights = [] \n",
    "    for layer in clf.coefs_:\n",
    "        layers_weights = layer.reshape(1,-1)\n",
    "        all_weights = np.append(all_weights, layers_weights)\n",
    "    return all_weights"
   ]
  },
  {
   "cell_type": "code",
   "execution_count": 8,
   "metadata": {
    "collapsed": true
   },
   "outputs": [],
   "source": [
    "import colorsys\n",
    "\n",
    "def val_to_rgb(val):\n",
    "    i = val*0.67\n",
    "    c = colorsys.hsv_to_rgb(i,1,1)\n",
    "    return [int(color*255) for color in c]"
   ]
  },
  {
   "cell_type": "code",
   "execution_count": 9,
   "metadata": {
    "collapsed": true
   },
   "outputs": [],
   "source": [
    "from led_api import led_api\n",
    "\n",
    "def set_leds_to_weights(weights):\n",
    "    led_data_to_send = {\"leds\":[]}\n",
    "    for i,w in np.ndenumerate(weights):\n",
    "        norm_weight = max(-1, min(w, 1))+1\n",
    "        (r,g,b) = val_to_rgb(norm_weight)\n",
    "        to_add = { \"red\": r, \"green\": g, \"blue\": b, \"led_num\": i[0] }\n",
    "        led_data_to_send['leds'].append(to_add)\n",
    "    led_api.send_led_json(led_data_to_send)\n",
    "    \n",
    "def clear_leds():\n",
    "    led_data_to_send = {\"leds\":[]}\n",
    "    for i in range(30):\n",
    "        to_add = { \"red\": 0, \"green\": 0, \"blue\": 0, \"led_num\": i }\n",
    "        led_data_to_send['leds'].append(to_add)\n",
    "    led_api.send_led_json(led_data_to_send)"
   ]
  },
  {
   "cell_type": "code",
   "execution_count": 10,
   "metadata": {
    "collapsed": true
   },
   "outputs": [],
   "source": [
    "# clear led strip\n",
    "clear_leds()"
   ]
  },
  {
   "cell_type": "code",
   "execution_count": 11,
   "metadata": {
    "collapsed": false,
    "scrolled": true
   },
   "outputs": [
    {
     "name": "stdout",
     "output_type": "stream",
     "text": [
      "0.3\n",
      "0.32\n",
      "0.32\n",
      "0.3\n",
      "0.32\n",
      "0.32\n",
      "0.3\n",
      "0.32\n",
      "0.32\n",
      "0.34\n"
     ]
    }
   ],
   "source": [
    "for i in range(10):\n",
    "    time.sleep(0.1)\n",
    "    clf.fit(X_train, y_train)\n",
    "    print(clf.score(X_test, y_test))\n",
    "    set_leds_to_weights(get_all_weights(clf))"
   ]
  }
 ],
 "metadata": {
  "kernelspec": {
   "display_name": "Python 3",
   "language": "python",
   "name": "python3"
  },
  "language_info": {
   "codemirror_mode": {
    "name": "ipython",
    "version": 3
   },
   "file_extension": ".py",
   "mimetype": "text/x-python",
   "name": "python",
   "nbconvert_exporter": "python",
   "pygments_lexer": "ipython3",
   "version": "3.5.2"
  }
 },
 "nbformat": 4,
 "nbformat_minor": 0
}
