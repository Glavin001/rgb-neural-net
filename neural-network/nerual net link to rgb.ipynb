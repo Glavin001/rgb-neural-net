{
 "cells": [
  {
   "cell_type": "code",
   "execution_count": 165,
   "metadata": {
    "collapsed": true
   },
   "outputs": [],
   "source": [
    "import time"
   ]
  },
  {
   "cell_type": "code",
   "execution_count": 117,
   "metadata": {
    "collapsed": false
   },
   "outputs": [],
   "source": [
    "from sklearn.neural_network import MLPClassifier\n",
    "from sklearn import datasets, preprocessing\n",
    "from sklearn.model_selection import train_test_split\n",
    "import numpy as np"
   ]
  },
  {
   "cell_type": "code",
   "execution_count": 10,
   "metadata": {
    "collapsed": true
   },
   "outputs": [],
   "source": [
    "iris = datasets.load_iris()"
   ]
  },
  {
   "cell_type": "code",
   "execution_count": 104,
   "metadata": {
    "collapsed": false
   },
   "outputs": [],
   "source": [
    "X = preprocessing.normalize(iris.data[:, :2],axis=1)  # we only take the first two features.\n",
    "y = iris.target"
   ]
  },
  {
   "cell_type": "code",
   "execution_count": 132,
   "metadata": {
    "collapsed": false
   },
   "outputs": [],
   "source": [
    "def get_all_weights(clf):\n",
    "    all_weights = [] \n",
    "    for layer in clf.coefs_:\n",
    "        layers_weights = layer.reshape(1,-1)\n",
    "        all_weights = np.append(all_weights, layers_weights)\n",
    "    return all_weights"
   ]
  },
  {
   "cell_type": "code",
   "execution_count": 105,
   "metadata": {
    "collapsed": false
   },
   "outputs": [
    {
     "data": {
      "text/plain": [
       "array([[ 0.82451335,  0.5658425 ],\n",
       "       [ 0.8528513 ,  0.52215386],\n",
       "       [ 0.82659925,  0.56279098],\n",
       "       [ 0.82926643,  0.55885346],\n",
       "       [ 0.81153434,  0.58430473],\n",
       "       [ 0.81067923,  0.58549055],\n",
       "       [ 0.80417614,  0.59439106],\n",
       "       [ 0.8269265 ,  0.56231002],\n",
       "       [ 0.8349582 ,  0.55031336],\n",
       "       [ 0.84507884,  0.53464171],\n",
       "       [ 0.82493237,  0.56523144],\n",
       "       [ 0.81602448,  0.57801734],\n",
       "       [ 0.8479983 ,  0.52999894],\n",
       "       [ 0.82012695,  0.5721816 ],\n",
       "       [ 0.82321279,  0.56773296],\n",
       "       [ 0.79159032,  0.61105218],\n",
       "       [ 0.81067923,  0.58549055],\n",
       "       [ 0.82451335,  0.5658425 ],\n",
       "       [ 0.83205029,  0.5547002 ],\n",
       "       [ 0.80188283,  0.59748132],\n",
       "       [ 0.84623284,  0.53281327],\n",
       "       [ 0.80942185,  0.58722762],\n",
       "       [ 0.787505  ,  0.61630826],\n",
       "       [ 0.83957016,  0.54325128],\n",
       "       [ 0.81602448,  0.57801734],\n",
       "       [ 0.85749293,  0.51449576],\n",
       "       [ 0.8269265 ,  0.56231002],\n",
       "       [ 0.82958775,  0.55837637],\n",
       "       [ 0.83696961,  0.54724936],\n",
       "       [ 0.82659925,  0.56279098],\n",
       "       [ 0.84003938,  0.54252543],\n",
       "       [ 0.84623284,  0.53281327],\n",
       "       [ 0.78526917,  0.61915453],\n",
       "       [ 0.79476781,  0.6069136 ],\n",
       "       [ 0.84507884,  0.53464171],\n",
       "       [ 0.8422714 ,  0.5390537 ],\n",
       "       [ 0.84366149,  0.53687549],\n",
       "       [ 0.84507884,  0.53464171],\n",
       "       [ 0.82622734,  0.56333682],\n",
       "       [ 0.83205029,  0.5547002 ],\n",
       "       [ 0.81923192,  0.57346234],\n",
       "       [ 0.89043468,  0.45511106],\n",
       "       [ 0.80873608,  0.5881717 ],\n",
       "       [ 0.81923192,  0.57346234],\n",
       "       [ 0.80188283,  0.59748132],\n",
       "       [ 0.8479983 ,  0.52999894],\n",
       "       [ 0.80188283,  0.59748132],\n",
       "       [ 0.8209052 ,  0.57106449],\n",
       "       [ 0.81995808,  0.57242357],\n",
       "       [ 0.83460941,  0.55084221],\n",
       "       [ 0.90947448,  0.41575976],\n",
       "       [ 0.89442719,  0.4472136 ],\n",
       "       [ 0.9121687 ,  0.40981492],\n",
       "       [ 0.92257988,  0.38580613],\n",
       "       [ 0.91841262,  0.3956239 ],\n",
       "       [ 0.89755433,  0.44090388],\n",
       "       [ 0.88583154,  0.46400699],\n",
       "       [ 0.89806271,  0.43986745],\n",
       "       [ 0.91551945,  0.4022737 ],\n",
       "       [ 0.88749608,  0.46081527],\n",
       "       [ 0.92847669,  0.37139068],\n",
       "       [ 0.89138513,  0.45324668],\n",
       "       [ 0.93887632,  0.34425465],\n",
       "       [ 0.903134  ,  0.42935879],\n",
       "       [ 0.88799441,  0.45985425],\n",
       "       [ 0.90756252,  0.41991699],\n",
       "       [ 0.88147997,  0.47222141],\n",
       "       [ 0.90658206,  0.42202958],\n",
       "       [ 0.94242775,  0.33440985],\n",
       "       [ 0.91313788,  0.40765084],\n",
       "       [ 0.87903186,  0.47676304],\n",
       "       [ 0.90882955,  0.41716766],\n",
       "       [ 0.92949071,  0.36884552],\n",
       "       [ 0.90882955,  0.41716766],\n",
       "       [ 0.91085325,  0.41273038],\n",
       "       [ 0.91036648,  0.41380294],\n",
       "       [ 0.9246781 ,  0.38074981],\n",
       "       [ 0.91268458,  0.40866474],\n",
       "       [ 0.90034895,  0.43516866],\n",
       "       [ 0.90981905,  0.41500518],\n",
       "       [ 0.91653938,  0.39994446],\n",
       "       [ 0.91653938,  0.39994446],\n",
       "       [ 0.90658206,  0.42202958],\n",
       "       [ 0.91192151,  0.41036468],\n",
       "       [ 0.87415728,  0.48564293],\n",
       "       [ 0.87002219,  0.49301257],\n",
       "       [ 0.90756252,  0.41991699],\n",
       "       [ 0.93935732,  0.34293997],\n",
       "       [ 0.88147997,  0.47222141],\n",
       "       [ 0.91036648,  0.41380294],\n",
       "       [ 0.90407227,  0.42737962],\n",
       "       [ 0.89734997,  0.44131966],\n",
       "       [ 0.91250932,  0.4090559 ],\n",
       "       [ 0.90849045,  0.41790561],\n",
       "       [ 0.90076868,  0.43429919],\n",
       "       [ 0.88491822,  0.46574643],\n",
       "       [ 0.89127803,  0.45345724],\n",
       "       [ 0.90580954,  0.42368511],\n",
       "       [ 0.89792072,  0.44015722],\n",
       "       [ 0.89755433,  0.44090388],\n",
       "       [ 0.88583154,  0.46400699],\n",
       "       [ 0.90658206,  0.42202958],\n",
       "       [ 0.92114622,  0.38921671],\n",
       "       [ 0.90838094,  0.41814361],\n",
       "       [ 0.90795938,  0.41905818],\n",
       "       [ 0.93015522,  0.36716653],\n",
       "       [ 0.89076187,  0.45447034],\n",
       "       [ 0.92935209,  0.36919466],\n",
       "       [ 0.93690259,  0.34959052],\n",
       "       [ 0.89442719,  0.4472136 ],\n",
       "       [ 0.89717068,  0.44168403],\n",
       "       [ 0.92136416,  0.38870051],\n",
       "       [ 0.9149178 ,  0.40364021],\n",
       "       [ 0.91578821,  0.4016615 ],\n",
       "       [ 0.90055164,  0.43474907],\n",
       "       [ 0.89442719,  0.4472136 ],\n",
       "       [ 0.90795938,  0.41905818],\n",
       "       [ 0.89674427,  0.44254912],\n",
       "       [ 0.94744567,  0.31991672],\n",
       "       [ 0.93887632,  0.34425465],\n",
       "       [ 0.90718823,  0.42072498],\n",
       "       [ 0.89442719,  0.4472136 ],\n",
       "       [ 0.93979342,  0.34174306],\n",
       "       [ 0.91914503,  0.3939193 ],\n",
       "       [ 0.89708903,  0.44184982],\n",
       "       [ 0.91381155,  0.40613847],\n",
       "       [ 0.9113706 ,  0.41158672],\n",
       "       [ 0.89734997,  0.44131966],\n",
       "       [ 0.91615733,  0.40081883],\n",
       "       [ 0.92307692,  0.38461538],\n",
       "       [ 0.93528626,  0.3538921 ],\n",
       "       [ 0.90116674,  0.43347261],\n",
       "       [ 0.91615733,  0.40081883],\n",
       "       [ 0.91381155,  0.40613847],\n",
       "       [ 0.91992326,  0.39209844],\n",
       "       [ 0.93177739,  0.36303015],\n",
       "       [ 0.88002217,  0.4749326 ],\n",
       "       [ 0.89998132,  0.43592845],\n",
       "       [ 0.89442719,  0.4472136 ],\n",
       "       [ 0.9121687 ,  0.40981492],\n",
       "       [ 0.90756252,  0.41991699],\n",
       "       [ 0.9121687 ,  0.40981492],\n",
       "       [ 0.90658206,  0.42202958],\n",
       "       [ 0.9048187 ,  0.42579704],\n",
       "       [ 0.89708903,  0.44184982],\n",
       "       [ 0.91268458,  0.40866474],\n",
       "       [ 0.92949071,  0.36884552],\n",
       "       [ 0.90795938,  0.41905818],\n",
       "       [ 0.87681241,  0.48083261],\n",
       "       [ 0.89138513,  0.45324668]])"
      ]
     },
     "execution_count": 105,
     "metadata": {},
     "output_type": "execute_result"
    }
   ],
   "source": [
    "X"
   ]
  },
  {
   "cell_type": "code",
   "execution_count": 142,
   "metadata": {
    "collapsed": true
   },
   "outputs": [],
   "source": [
    "X_train, X_test, y_train, y_test = train_test_split(\n",
    "    X, y, test_size=0.33, random_state=42)"
   ]
  },
  {
   "cell_type": "code",
   "execution_count": 271,
   "metadata": {
    "collapsed": false
   },
   "outputs": [],
   "source": [
    "clf = MLPClassifier(solver='lbfgs', alpha=1e-5, max_iter=1, warm_start=True,\n",
    "                    hidden_layer_sizes=(5), random_state=1)"
   ]
  },
  {
   "cell_type": "code",
   "execution_count": 272,
   "metadata": {
    "collapsed": false,
    "scrolled": true
   },
   "outputs": [
    {
     "name": "stdout",
     "output_type": "stream",
     "text": [
      "0.3\n",
      "0.32\n",
      "0.32\n",
      "0.3\n",
      "0.32\n",
      "0.32\n",
      "0.3\n",
      "0.32\n",
      "0.32\n",
      "0.34\n",
      "0.64\n",
      "0.34\n",
      "0.42\n",
      "0.72\n",
      "0.66\n",
      "0.72\n",
      "0.68\n",
      "0.72\n",
      "0.72\n",
      "0.72\n",
      "0.72\n",
      "0.72\n",
      "0.72\n",
      "0.72\n",
      "0.74\n",
      "0.74\n",
      "0.72\n",
      "0.74\n",
      "0.74\n",
      "0.74\n",
      "0.72\n",
      "0.74\n",
      "0.72\n",
      "0.74\n",
      "0.74\n",
      "0.74\n",
      "0.7\n",
      "0.74\n",
      "0.72\n",
      "0.74\n",
      "0.72\n",
      "0.74\n",
      "0.72\n",
      "0.74\n",
      "0.72\n",
      "0.74\n",
      "0.72\n",
      "0.74\n",
      "0.7\n",
      "0.74\n",
      "0.7\n",
      "0.74\n",
      "0.72\n",
      "0.74\n",
      "0.7\n",
      "0.74\n",
      "0.72\n",
      "0.74\n",
      "0.72\n",
      "0.74\n",
      "0.72\n",
      "0.74\n",
      "0.72\n",
      "0.74\n",
      "0.72\n",
      "0.74\n",
      "0.72\n",
      "0.76\n",
      "0.72\n",
      "0.68\n",
      "0.74\n",
      "0.72\n",
      "0.68\n",
      "0.74\n",
      "0.72\n",
      "0.7\n",
      "0.74\n",
      "0.7\n",
      "0.74\n",
      "0.72\n",
      "0.72\n",
      "0.7\n",
      "0.7\n",
      "0.7\n",
      "0.7\n",
      "0.7\n",
      "0.72\n",
      "0.7\n",
      "0.7\n",
      "0.7\n",
      "0.72\n",
      "0.7\n",
      "0.68\n",
      "0.72\n",
      "0.7\n",
      "0.76\n",
      "0.72\n",
      "0.7\n",
      "0.68\n",
      "0.7\n"
     ]
    }
   ],
   "source": [
    "for i in range(100):\n",
    "    time.sleep(0.1)\n",
    "    clf.fit(X_train, y_train)\n",
    "    print(clf.score(X_test, y_test))\n",
    "    set_leds_to_weights(get_all_weights(clf))"
   ]
  },
  {
   "cell_type": "code",
   "execution_count": 172,
   "metadata": {
    "collapsed": false
   },
   "outputs": [],
   "source": [
    "from led_api import led_api"
   ]
  },
  {
   "cell_type": "code",
   "execution_count": 176,
   "metadata": {
    "collapsed": false
   },
   "outputs": [],
   "source": [
    "led_data_to_send = {\"leds\":[]}\n",
    "for i in range(30):\n",
    "    to_add = { \"red\": 0, \"green\": 0, \"blue\": 0, \"led_num\": i }\n",
    "    led_data_to_send['leds'].append(to_add)"
   ]
  },
  {
   "cell_type": "code",
   "execution_count": 178,
   "metadata": {
    "collapsed": false
   },
   "outputs": [],
   "source": [
    "led_api.send_led_json(led_data_to_send)"
   ]
  },
  {
   "cell_type": "code",
   "execution_count": 263,
   "metadata": {
    "collapsed": true
   },
   "outputs": [],
   "source": [
    "def set_leds_to_weights(weights):\n",
    "    led_data_to_send = {\"leds\":[]}\n",
    "    for i,w in np.ndenumerate(weights):\n",
    "        norm_weight = max(-1, min(w, 1))+1\n",
    "        (r,g,b) = val_to_rgb(norm_weight)\n",
    "        to_add = { \"red\": r, \"green\": g, \"blue\": b, \"led_num\": i[0] }\n",
    "        led_data_to_send['leds'].append(to_add)\n",
    "    led_api.send_led_json(led_data_to_send)"
   ]
  },
  {
   "cell_type": "code",
   "execution_count": 245,
   "metadata": {
    "collapsed": false
   },
   "outputs": [],
   "source": [
    "set_leds_to_weights(get_all_weights(clf))"
   ]
  },
  {
   "cell_type": "code",
   "execution_count": 181,
   "metadata": {
    "collapsed": true
   },
   "outputs": [],
   "source": [
    "w = get_all_weights(clf)"
   ]
  },
  {
   "cell_type": "code",
   "execution_count": 183,
   "metadata": {
    "collapsed": false
   },
   "outputs": [
    {
     "name": "stdout",
     "output_type": "stream",
     "text": [
      "-0.153644337444\n",
      "0.0782405724618\n",
      "-0.92560196717\n",
      "-1.55066383451\n",
      "-0.654076504463\n",
      "-0.754837065946\n",
      "-0.782507690232\n",
      "-0.285964003876\n",
      "2.05278521227\n",
      "0.0718741318866\n",
      "0.295256362584\n",
      "-0.143231300972\n",
      "0.1016530672\n",
      "-0.557574347172\n",
      "-0.450423728524\n",
      "0.383135583572\n",
      "0.811047274873\n",
      "-0.323156585352\n",
      "0.333110255941\n",
      "2.16087710204\n",
      "-0.254659397772\n",
      "-1.28954251939\n",
      "-0.7983750564\n",
      "-0.57186656421\n",
      "0.654957534043\n"
     ]
    }
   ],
   "source": [
    "for wd in w:\n",
    "    print(wd)"
   ]
  },
  {
   "cell_type": "code",
   "execution_count": 186,
   "metadata": {
    "collapsed": false
   },
   "outputs": [
    {
     "name": "stdout",
     "output_type": "stream",
     "text": [
      "-0.153644337444 0\n",
      "0.0782405724618 1\n",
      "-0.92560196717 2\n",
      "-1.55066383451 3\n",
      "-0.654076504463 4\n",
      "-0.754837065946 5\n",
      "-0.782507690232 6\n",
      "-0.285964003876 7\n",
      "2.05278521227 8\n",
      "0.0718741318866 9\n",
      "0.295256362584 10\n",
      "-0.143231300972 11\n",
      "0.1016530672 12\n",
      "-0.557574347172 13\n",
      "-0.450423728524 14\n",
      "0.383135583572 15\n",
      "0.811047274873 16\n",
      "-0.323156585352 17\n",
      "0.333110255941 18\n",
      "2.16087710204 19\n",
      "-0.254659397772 20\n",
      "-1.28954251939 21\n",
      "-0.7983750564 22\n",
      "-0.57186656421 23\n",
      "0.654957534043 24\n"
     ]
    }
   ],
   "source": [
    "for i,v in np.ndenumerate(w):\n",
    "    print (v,i[0])"
   ]
  },
  {
   "cell_type": "code",
   "execution_count": 215,
   "metadata": {
    "collapsed": true
   },
   "outputs": [],
   "source": [
    "import colorsys"
   ]
  },
  {
   "cell_type": "code",
   "execution_count": 234,
   "metadata": {
    "collapsed": false
   },
   "outputs": [
    {
     "data": {
      "text/plain": [
       "(0.020000000000000462, 0.0, 1)"
      ]
     },
     "execution_count": 234,
     "metadata": {},
     "output_type": "execute_result"
    }
   ],
   "source": [
    "colorsys.hsv_to_rgb(0.67,1,1)"
   ]
  },
  {
   "cell_type": "code",
   "execution_count": 239,
   "metadata": {
    "collapsed": true
   },
   "outputs": [],
   "source": [
    "def val_to_rgb(val):\n",
    "    i = val*0.67\n",
    "    c = colorsys.hsv_to_rgb(i,1,1)\n",
    "    return [int(color*255) for color in c]"
   ]
  },
  {
   "cell_type": "code",
   "execution_count": 243,
   "metadata": {
    "collapsed": false
   },
   "outputs": [
    {
     "data": {
      "text/plain": [
       "[0, 255, 2]"
      ]
     },
     "execution_count": 243,
     "metadata": {},
     "output_type": "execute_result"
    }
   ],
   "source": [
    "val_to_rgb(0.5)"
   ]
  },
  {
   "cell_type": "code",
   "execution_count": null,
   "metadata": {
    "collapsed": true
   },
   "outputs": [],
   "source": []
  }
 ],
 "metadata": {
  "kernelspec": {
   "display_name": "Python 3",
   "language": "python",
   "name": "python3"
  },
  "language_info": {
   "codemirror_mode": {
    "name": "ipython",
    "version": 3
   },
   "file_extension": ".py",
   "mimetype": "text/x-python",
   "name": "python",
   "nbconvert_exporter": "python",
   "pygments_lexer": "ipython3",
   "version": "3.5.2"
  }
 },
 "nbformat": 4,
 "nbformat_minor": 0
}
