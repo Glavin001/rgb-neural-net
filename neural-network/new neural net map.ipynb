{
 "cells": [
  {
   "cell_type": "code",
   "execution_count": 1,
   "metadata": {
    "collapsed": true
   },
   "outputs": [],
   "source": [
    "from sklearn.neural_network import MLPClassifier\n",
    "from sklearn import datasets, preprocessing\n",
    "from sklearn.model_selection import train_test_split\n",
    "import numpy as np\n",
    "import pandas as pd"
   ]
  },
  {
   "cell_type": "code",
   "execution_count": 2,
   "metadata": {
    "collapsed": true
   },
   "outputs": [],
   "source": [
    "iris = datasets.load_iris()"
   ]
  },
  {
   "cell_type": "code",
   "execution_count": 3,
   "metadata": {
    "collapsed": true
   },
   "outputs": [],
   "source": [
    "X = preprocessing.normalize(iris.data[:, :2],axis=1)  # we only take the first two features.\n",
    "y = iris.target"
   ]
  },
  {
   "cell_type": "code",
   "execution_count": 4,
   "metadata": {
    "collapsed": true
   },
   "outputs": [],
   "source": [
    "mask = y != 2\n",
    "X = X[mask]\n",
    "y = y[mask]"
   ]
  },
  {
   "cell_type": "code",
   "execution_count": 5,
   "metadata": {
    "collapsed": false
   },
   "outputs": [
    {
     "data": {
      "text/plain": [
       "array([ True,  True,  True,  True,  True,  True,  True,  True,  True,\n",
       "        True,  True,  True,  True,  True,  True,  True,  True,  True,\n",
       "        True,  True,  True,  True,  True,  True,  True,  True,  True,\n",
       "        True,  True,  True,  True,  True,  True,  True,  True,  True,\n",
       "        True,  True,  True,  True,  True,  True,  True,  True,  True,\n",
       "        True,  True,  True,  True,  True, False, False, False, False,\n",
       "       False, False, False, False, False, False, False, False, False,\n",
       "       False, False, False, False, False, False, False, False, False,\n",
       "       False, False, False, False, False, False, False, False, False,\n",
       "       False, False, False, False, False, False, False, False, False,\n",
       "       False, False, False, False, False, False, False, False, False, False], dtype=bool)"
      ]
     },
     "execution_count": 5,
     "metadata": {},
     "output_type": "execute_result"
    }
   ],
   "source": [
    "y == 0"
   ]
  },
  {
   "cell_type": "code",
   "execution_count": 6,
   "metadata": {
    "collapsed": true
   },
   "outputs": [],
   "source": [
    "y1 = np.matrix([np.array(y == 0),np.array(y == 1)]).transpose()"
   ]
  },
  {
   "cell_type": "code",
   "execution_count": 7,
   "metadata": {
    "collapsed": false
   },
   "outputs": [
    {
     "data": {
      "text/plain": [
       "((100, 2), (100, 2))"
      ]
     },
     "execution_count": 7,
     "metadata": {},
     "output_type": "execute_result"
    }
   ],
   "source": [
    "y1.shape, X.shape"
   ]
  },
  {
   "cell_type": "code",
   "execution_count": 8,
   "metadata": {
    "collapsed": true
   },
   "outputs": [],
   "source": [
    "X_train, X_test, y_train, y_test = train_test_split(\n",
    "    X, y1, test_size=0.33, random_state=42)"
   ]
  },
  {
   "cell_type": "code",
   "execution_count": 9,
   "metadata": {
    "collapsed": true
   },
   "outputs": [],
   "source": [
    "clf = MLPClassifier(solver='lbfgs', max_iter=1, warm_start=True,\n",
    "                    hidden_layer_sizes=(3), random_state=1)"
   ]
  },
  {
   "cell_type": "code",
   "execution_count": 10,
   "metadata": {
    "collapsed": false
   },
   "outputs": [
    {
     "data": {
      "text/plain": [
       "0.42424242424242425"
      ]
     },
     "execution_count": 10,
     "metadata": {},
     "output_type": "execute_result"
    }
   ],
   "source": [
    "clf.fit(X_train, y_train)\n",
    "clf.score(X_test, y_test)"
   ]
  },
  {
   "cell_type": "code",
   "execution_count": 11,
   "metadata": {
    "collapsed": false
   },
   "outputs": [
    {
     "data": {
      "text/plain": [
       "((2, 3), (3, 2))"
      ]
     },
     "execution_count": 11,
     "metadata": {},
     "output_type": "execute_result"
    }
   ],
   "source": [
    "clf.coefs_[0].shape, clf.coefs_[1].shape"
   ]
  },
  {
   "cell_type": "code",
   "execution_count": 12,
   "metadata": {
    "collapsed": false
   },
   "outputs": [
    {
     "data": {
      "text/plain": [
       "array([[-0.18179391,  0.48270209, -1.09518389],\n",
       "       [-0.43306343, -0.77391155, -0.89313271]])"
      ]
     },
     "execution_count": 12,
     "metadata": {},
     "output_type": "execute_result"
    }
   ],
   "source": [
    "clf.coefs_[0]"
   ]
  },
  {
   "cell_type": "code",
   "execution_count": 13,
   "metadata": {
    "collapsed": false
   },
   "outputs": [
    {
     "data": {
      "text/plain": [
       "array([[ 0.08504238, -0.17703423],\n",
       "       [ 0.40579165, -0.64750639],\n",
       "       [ 0.82840575, -1.03543185]])"
      ]
     },
     "execution_count": 13,
     "metadata": {},
     "output_type": "execute_result"
    }
   ],
   "source": [
    "clf.coefs_[1]"
   ]
  },
  {
   "cell_type": "code",
   "execution_count": 14,
   "metadata": {
    "collapsed": false
   },
   "outputs": [
    {
     "data": {
      "text/plain": [
       "((3,), (2,))"
      ]
     },
     "execution_count": 14,
     "metadata": {},
     "output_type": "execute_result"
    }
   ],
   "source": [
    "clf.intercepts_[0].shape, clf.intercepts_[1].shape"
   ]
  },
  {
   "cell_type": "code",
   "execution_count": 15,
   "metadata": {
    "collapsed": false
   },
   "outputs": [
    {
     "data": {
      "text/plain": [
       "[array([-0.68736944, -0.33835949, -0.22617113]),\n",
       " array([-0.47017521,  0.35571616])]"
      ]
     },
     "execution_count": 15,
     "metadata": {},
     "output_type": "execute_result"
    }
   ],
   "source": [
    "clf.intercepts_"
   ]
  },
  {
   "cell_type": "code",
   "execution_count": 111,
   "metadata": {
    "collapsed": false
   },
   "outputs": [
    {
     "name": "stdout",
     "output_type": "stream",
     "text": [
      "[5, 11]\n",
      "[6, 20]\n",
      "[7, 28]\n",
      "[0, 10]\n",
      "[1, 18]\n",
      "[2, 27]\n",
      "[16, 41]\n",
      "[15, 36]\n",
      "[23, 40]\n",
      "[25, 35]\n",
      "[31, 39]\n",
      "[32, 34]\n"
     ]
    }
   ],
   "source": [
    "# %%writefile led_map.py\n",
    "\n",
    "def unwrap_to_pairs(l):\n",
    "    o = []\n",
    "    if type(l[0]) == list:\n",
    "        for i in l:\n",
    "            x = unwrap_to_pairs(i)\n",
    "            if type(x[0]) != list:\n",
    "                o += [x]\n",
    "            else:\n",
    "                o += x\n",
    "        return o\n",
    "    else:\n",
    "        print(l)\n",
    "        return l\n",
    "\n",
    "input_layer_bias = [\n",
    "                    [8,9],\n",
    "                    [3,4]\n",
    "                    ]\n",
    "\n",
    "input_layer_weights = [\n",
    "                        [[5,11],[6,20],[7,28]],\n",
    "                        [[0,10],[1,18],[2,27]]\n",
    "                        \n",
    "                      ]\n",
    "\n",
    "hidden_layer_bias = [\n",
    "                        [13,14],\n",
    "                        [21,22],\n",
    "                        [29,30]\n",
    "                    ]\n",
    "\n",
    "hidden_layer_weights = [\n",
    "                            [[16,41],[15,36]],\n",
    "                            [[23,40],[25,35]],\n",
    "                            [[31,39],[32,34]]\n",
    "                       ]\n",
    "\n",
    "output_layer_bias = [\n",
    "                        [42,43],\n",
    "                        [37,38]\n",
    "                    ]\n",
    "\n",
    "weight_index =  (unwrap_to_pairs(input_layer_weights) + \n",
    "                 unwrap_to_pairs(hidden_layer_weights)\n",
    "                )\n",
    "\n",
    "bias_index =    (input_layer_bias +\n",
    "                 hidden_layer_bias +\n",
    "                 output_layer_bias)\n",
    "\n",
    "import colorsys\n",
    "\n",
    "def val_to_rgb(val):\n",
    "    i = val*0.67\n",
    "    c = colorsys.hsv_to_rgb(i,1,1)\n",
    "    return [int(color*255) for color in c]\n",
    "\n",
    "def map_weight_to_led(coefs, led_map):\n",
    "    leds = []\n",
    "    for i,v in enumerate(led_map):\n",
    "        for i2,v2 in enumerate(v):\n",
    "            print(i,i2,v2,coefs[i][i2])\n",
    "            \n",
    "            for led in v2:\n",
    "                colours = val_to_rgb(coefs[i][i2])\n",
    "                leds.append({\"led_num\":led,\"red\": colours[0], \"green\": colours[1], \"blue\": colours[2],})\n",
    "    return leds\n",
    "\n",
    "def map_bias_to_led(bias, led_map):\n",
    "    leds = []\n",
    "    for i,v in enumerate(led_map):\n",
    "        print(i,v,bias[i])\n",
    "        for led in v:\n",
    "            leds.append({\"led_num\":led, \"val\":bias[i]})\n",
    "    return leds\n",
    "\n",
    "def make_led_coef_vals(clf):\n",
    "    leds = []\n",
    "    leds += map_weight_to_led(clf.coefs_[0], input_layer_weights)\n",
    "    leds += map_weight_to_led(clf.coefs_[1], hidden_layer_weights)\n",
    "    leds += map_bias_to_led(clf.intercepts_[0], hidden_layer_bias)\n",
    "    leds += map_bias_to_led(clf.intercepts_[0], output_layer_bias)\n",
    "    return leds"
   ]
  },
  {
   "cell_type": "code",
   "execution_count": 112,
   "metadata": {
    "collapsed": false
   },
   "outputs": [
    {
     "ename": "NameError",
     "evalue": "name 'coefs' is not defined",
     "output_type": "error",
     "traceback": [
      "\u001b[0;31m---------------------------------------------------------------------------\u001b[0m",
      "\u001b[0;31mNameError\u001b[0m                                 Traceback (most recent call last)",
      "\u001b[0;32m<ipython-input-112-d435dd3d3232>\u001b[0m in \u001b[0;36m<module>\u001b[0;34m()\u001b[0m\n\u001b[0;32m----> 1\u001b[0;31m \u001b[0mmap_weight_to_led\u001b[0m\u001b[0;34m(\u001b[0m\u001b[0mcoefs\u001b[0m\u001b[0;34m,\u001b[0m \u001b[0mled_map\u001b[0m\u001b[0;34m)\u001b[0m\u001b[0;34m\u001b[0m\u001b[0m\n\u001b[0m",
      "\u001b[0;31mNameError\u001b[0m: name 'coefs' is not defined"
     ]
    }
   ],
   "source": [
    "map_weight_to_led(coefs, led_map)"
   ]
  },
  {
   "cell_type": "code",
   "execution_count": 113,
   "metadata": {
    "collapsed": false
   },
   "outputs": [
    {
     "data": {
      "text/plain": [
       "[[8, 9], [3, 4], [13, 14], [21, 22], [29, 30], [42, 43], [37, 38]]"
      ]
     },
     "execution_count": 113,
     "metadata": {},
     "output_type": "execute_result"
    }
   ],
   "source": [
    "bias_index"
   ]
  },
  {
   "cell_type": "code",
   "execution_count": 114,
   "metadata": {
    "collapsed": false
   },
   "outputs": [
    {
     "name": "stdout",
     "output_type": "stream",
     "text": [
      "0 0 [16, 41] 0.0850423770945\n",
      "0 1 [15, 36] -0.177034229022\n",
      "1 0 [23, 40] 0.405791651524\n",
      "1 1 [25, 35] -0.647506387982\n",
      "2 0 [31, 39] 0.828405749149\n",
      "2 1 [32, 34] -1.03543184533\n"
     ]
    },
    {
     "data": {
      "text/plain": [
       "[{'blue': 0, 'green': 87, 'led_num': 16, 'red': 255},\n",
       " {'blue': 0, 'green': 87, 'led_num': 41, 'red': 255},\n",
       " {'blue': 0, 'green': -181, 'led_num': 15, 'red': 255},\n",
       " {'blue': 0, 'green': -181, 'led_num': 36, 'red': 255},\n",
       " {'blue': 0, 'green': 255, 'led_num': 23, 'red': 94},\n",
       " {'blue': 0, 'green': 255, 'led_num': 40, 'red': 94},\n",
       " {'blue': 255, 'green': 0, 'led_num': 25, 'red': -153},\n",
       " {'blue': 255, 'green': 0, 'led_num': 35, 'red': -153},\n",
       " {'blue': 255, 'green': 170, 'led_num': 31, 'red': 0},\n",
       " {'blue': 255, 'green': 170, 'led_num': 39, 'red': 0},\n",
       " {'blue': -41, 'green': 255, 'led_num': 32, 'red': 0},\n",
       " {'blue': -41, 'green': 255, 'led_num': 34, 'red': 0}]"
      ]
     },
     "execution_count": 114,
     "metadata": {},
     "output_type": "execute_result"
    }
   ],
   "source": [
    "map_weight_to_led(clf.coefs_[1], hidden_layer_weights)"
   ]
  },
  {
   "cell_type": "code",
   "execution_count": 110,
   "metadata": {
    "collapsed": false
   },
   "outputs": [
    {
     "name": "stdout",
     "output_type": "stream",
     "text": [
      "0 [13, 14] -0.687369437661\n",
      "1 [21, 22] -0.338359494253\n",
      "2 [29, 30] -0.226171132128\n"
     ]
    },
    {
     "data": {
      "text/plain": [
       "[{'led_num': 13, 'val': -0.68736943766140923},\n",
       " {'led_num': 14, 'val': -0.68736943766140923},\n",
       " {'led_num': 21, 'val': -0.33835949425288125},\n",
       " {'led_num': 22, 'val': -0.33835949425288125},\n",
       " {'led_num': 29, 'val': -0.22617113212838169},\n",
       " {'led_num': 30, 'val': -0.22617113212838169}]"
      ]
     },
     "execution_count": 110,
     "metadata": {},
     "output_type": "execute_result"
    }
   ],
   "source": [
    "map_bias_to_led(clf.intercepts_[0],hidden_layer_bias)"
   ]
  },
  {
   "cell_type": "code",
   "execution_count": 107,
   "metadata": {
    "collapsed": false
   },
   "outputs": [
    {
     "name": "stdout",
     "output_type": "stream",
     "text": [
      "0 0 [5, 11] -0.181793913059\n",
      "0 1 [6, 20] 0.48270209062\n",
      "0 2 [7, 28] -1.09518389253\n",
      "1 0 [0, 10] -0.433063428162\n",
      "1 1 [1, 18] -0.773911548997\n",
      "1 2 [2, 27] -0.893132713009\n",
      "0 0 [16, 41] 0.0850423770945\n",
      "0 1 [15, 36] -0.177034229022\n",
      "1 0 [23, 40] 0.405791651524\n",
      "1 1 [25, 35] -0.647506387982\n",
      "2 0 [31, 39] 0.828405749149\n",
      "2 1 [32, 34] -1.03543184533\n",
      "0 [13, 14] -0.687369437661\n",
      "1 [21, 22] -0.338359494253\n",
      "2 [29, 30] -0.226171132128\n",
      "0 [42, 43] -0.687369437661\n",
      "1 [37, 38] -0.338359494253\n"
     ]
    },
    {
     "data": {
      "text/plain": [
       "[{'blue': 0, 'green': 85.040485775685298, 'led_num': 0, 'red': 0},\n",
       " {'blue': 0, 'green': 33.91326765040246, 'led_num': 1, 'red': 0},\n",
       " {'blue': 0, 'green': 16.0300930486741, 'led_num': 2, 'red': 0},\n",
       " {'blue': 0, 'green': 122.73091304118169, 'led_num': 5, 'red': 0},\n",
       " {'blue': 0, 'green': 222.40531359303844, 'led_num': 6, 'red': 0},\n",
       " {'blue': 0, 'green': -14.277583878818067, 'led_num': 7, 'red': 0},\n",
       " {'blue': 0, 'green': 85.040485775685298, 'led_num': 10, 'red': 0},\n",
       " {'blue': 0, 'green': 122.73091304118169, 'led_num': 11, 'red': 0},\n",
       " {'led_num': 13, 'val': -0.68736943766140923},\n",
       " {'led_num': 14, 'val': -0.68736943766140923},\n",
       " {'blue': 0, 'green': 123.44486564675482, 'led_num': 15, 'red': 0},\n",
       " {'blue': 0, 'green': 162.75635656418052, 'led_num': 16, 'red': 0},\n",
       " {'blue': 0, 'green': 33.91326765040246, 'led_num': 18, 'red': 0},\n",
       " {'blue': 0, 'green': 222.40531359303844, 'led_num': 20, 'red': 0},\n",
       " {'led_num': 21, 'val': -0.33835949425288125},\n",
       " {'led_num': 22, 'val': -0.33835949425288125},\n",
       " {'blue': 0, 'green': 210.86874772864979, 'led_num': 23, 'red': 0},\n",
       " {'blue': 0, 'green': 52.874041802690172, 'led_num': 25, 'red': 0},\n",
       " {'blue': 0, 'green': 16.0300930486741, 'led_num': 27, 'red': 0},\n",
       " {'blue': 0, 'green': -14.277583878818067, 'led_num': 28, 'red': 0},\n",
       " {'led_num': 29, 'val': -0.22617113212838169},\n",
       " {'led_num': 30, 'val': -0.22617113212838169},\n",
       " {'blue': 0, 'green': 274.26086237238843, 'led_num': 31, 'red': 0},\n",
       " {'blue': 0, 'green': -5.3147767996505113, 'led_num': 32, 'red': 0},\n",
       " {'blue': 0, 'green': -5.3147767996505113, 'led_num': 34, 'red': 0},\n",
       " {'blue': 0, 'green': 52.874041802690172, 'led_num': 35, 'red': 0},\n",
       " {'blue': 0, 'green': 123.44486564675482, 'led_num': 36, 'red': 0},\n",
       " {'led_num': 37, 'val': -0.33835949425288125},\n",
       " {'led_num': 38, 'val': -0.33835949425288125},\n",
       " {'blue': 0, 'green': 274.26086237238843, 'led_num': 39, 'red': 0},\n",
       " {'blue': 0, 'green': 210.86874772864979, 'led_num': 40, 'red': 0},\n",
       " {'blue': 0, 'green': 162.75635656418052, 'led_num': 41, 'red': 0},\n",
       " {'led_num': 42, 'val': -0.68736943766140923},\n",
       " {'led_num': 43, 'val': -0.68736943766140923}]"
      ]
     },
     "execution_count": 107,
     "metadata": {},
     "output_type": "execute_result"
    }
   ],
   "source": [
    "f = make_led_coef_vals(clf)\n",
    "sorted(f, key=lambda k: k['led_num']) "
   ]
  },
  {
   "cell_type": "code",
   "execution_count": null,
   "metadata": {
    "collapsed": true
   },
   "outputs": [],
   "source": []
  }
 ],
 "metadata": {
  "anaconda-cloud": {},
  "kernelspec": {
   "display_name": "Python 3",
   "language": "python",
   "name": "python3"
  },
  "language_info": {
   "codemirror_mode": {
    "name": "ipython",
    "version": 3
   },
   "file_extension": ".py",
   "mimetype": "text/x-python",
   "name": "python",
   "nbconvert_exporter": "python",
   "pygments_lexer": "ipython3",
   "version": "3.5.2"
  }
 },
 "nbformat": 4,
 "nbformat_minor": 1
}
