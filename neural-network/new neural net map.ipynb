{
 "cells": [
  {
   "cell_type": "code",
   "execution_count": 52,
   "metadata": {
    "collapsed": true
   },
   "outputs": [],
   "source": [
    "from sklearn.neural_network import MLPClassifier\n",
    "from sklearn import datasets, preprocessing\n",
    "from sklearn.model_selection import train_test_split\n",
    "import numpy as np\n",
    "import pandas as pd"
   ]
  },
  {
   "cell_type": "code",
   "execution_count": 2,
   "metadata": {
    "collapsed": true
   },
   "outputs": [],
   "source": [
    "iris = datasets.load_iris()"
   ]
  },
  {
   "cell_type": "code",
   "execution_count": 3,
   "metadata": {
    "collapsed": true
   },
   "outputs": [],
   "source": [
    "X = preprocessing.normalize(iris.data[:, :2],axis=1)  # we only take the first two features.\n",
    "y = iris.target"
   ]
  },
  {
   "cell_type": "code",
   "execution_count": 4,
   "metadata": {
    "collapsed": true
   },
   "outputs": [],
   "source": [
    "mask = y != 2\n",
    "X = X[mask]\n",
    "y = y[mask]"
   ]
  },
  {
   "cell_type": "code",
   "execution_count": 5,
   "metadata": {},
   "outputs": [
    {
     "data": {
      "text/plain": [
       "array([ True,  True,  True,  True,  True,  True,  True,  True,  True,\n",
       "        True,  True,  True,  True,  True,  True,  True,  True,  True,\n",
       "        True,  True,  True,  True,  True,  True,  True,  True,  True,\n",
       "        True,  True,  True,  True,  True,  True,  True,  True,  True,\n",
       "        True,  True,  True,  True,  True,  True,  True,  True,  True,\n",
       "        True,  True,  True,  True,  True, False, False, False, False,\n",
       "       False, False, False, False, False, False, False, False, False,\n",
       "       False, False, False, False, False, False, False, False, False,\n",
       "       False, False, False, False, False, False, False, False, False,\n",
       "       False, False, False, False, False, False, False, False, False,\n",
       "       False, False, False, False, False, False, False, False, False, False], dtype=bool)"
      ]
     },
     "execution_count": 5,
     "metadata": {},
     "output_type": "execute_result"
    }
   ],
   "source": [
    "y == 0"
   ]
  },
  {
   "cell_type": "code",
   "execution_count": 6,
   "metadata": {},
   "outputs": [],
   "source": [
    "y1 = np.matrix([np.array(y == 0),np.array(y == 1)]).transpose()"
   ]
  },
  {
   "cell_type": "code",
   "execution_count": 7,
   "metadata": {},
   "outputs": [
    {
     "data": {
      "text/plain": [
       "((100, 2), (100, 2))"
      ]
     },
     "execution_count": 7,
     "metadata": {},
     "output_type": "execute_result"
    }
   ],
   "source": [
    "y1.shape, X.shape"
   ]
  },
  {
   "cell_type": "code",
   "execution_count": 8,
   "metadata": {},
   "outputs": [],
   "source": [
    "X_train, X_test, y_train, y_test = train_test_split(\n",
    "    X, y1, test_size=0.33, random_state=42)"
   ]
  },
  {
   "cell_type": "code",
   "execution_count": 34,
   "metadata": {
    "collapsed": true
   },
   "outputs": [],
   "source": [
    "clf = MLPClassifier(solver='lbfgs', max_iter=1, warm_start=True,\n",
    "                    hidden_layer_sizes=(3), random_state=1)"
   ]
  },
  {
   "cell_type": "code",
   "execution_count": 35,
   "metadata": {},
   "outputs": [
    {
     "data": {
      "text/plain": [
       "0.42424242424242425"
      ]
     },
     "execution_count": 35,
     "metadata": {},
     "output_type": "execute_result"
    }
   ],
   "source": [
    "clf.fit(X_train, y_train)\n",
    "clf.score(X_test, y_test)"
   ]
  },
  {
   "cell_type": "code",
   "execution_count": 36,
   "metadata": {},
   "outputs": [
    {
     "data": {
      "text/plain": [
       "((2, 3), (3, 2))"
      ]
     },
     "execution_count": 36,
     "metadata": {},
     "output_type": "execute_result"
    }
   ],
   "source": [
    "clf.coefs_[0].shape, clf.coefs_[1].shape"
   ]
  },
  {
   "cell_type": "code",
   "execution_count": 44,
   "metadata": {},
   "outputs": [
    {
     "data": {
      "text/plain": [
       "array([[-0.18179391,  0.48270209, -1.09518389],\n",
       "       [-0.43306343, -0.77391155, -0.89313271]])"
      ]
     },
     "execution_count": 44,
     "metadata": {},
     "output_type": "execute_result"
    }
   ],
   "source": [
    "clf.coefs_[0]"
   ]
  },
  {
   "cell_type": "code",
   "execution_count": 45,
   "metadata": {},
   "outputs": [
    {
     "data": {
      "text/plain": [
       "array([[ 0.08504238, -0.17703423],\n",
       "       [ 0.40579165, -0.64750639],\n",
       "       [ 0.82840575, -1.03543185]])"
      ]
     },
     "execution_count": 45,
     "metadata": {},
     "output_type": "execute_result"
    }
   ],
   "source": [
    "clf.coefs_[1]"
   ]
  },
  {
   "cell_type": "code",
   "execution_count": 42,
   "metadata": {},
   "outputs": [
    {
     "data": {
      "text/plain": [
       "((3,), (2,))"
      ]
     },
     "execution_count": 42,
     "metadata": {},
     "output_type": "execute_result"
    }
   ],
   "source": [
    "clf.intercepts_[0].shape, clf.intercepts_[1].shape"
   ]
  },
  {
   "cell_type": "code",
   "execution_count": 43,
   "metadata": {},
   "outputs": [
    {
     "data": {
      "text/plain": [
       "[array([-0.68736944, -0.33835949, -0.22617113]),\n",
       " array([-0.47017521,  0.35571616])]"
      ]
     },
     "execution_count": 43,
     "metadata": {},
     "output_type": "execute_result"
    }
   ],
   "source": [
    "clf.intercepts_"
   ]
  },
  {
   "cell_type": "code",
   "execution_count": 62,
   "metadata": {
    "collapsed": true
   },
   "outputs": [],
   "source": [
    "input_layer_weights = [\n",
    "                        [[0,11],[1,18],[2,26]],\n",
    "                        [[5,12],[6,20],[7,27]]\n",
    "                      ]\n",
    "\n",
    "hidden_layer_bias = [\n",
    "                        [13,14],\n",
    "                        [21,22],\n",
    "                        [29,30]\n",
    "                    ]\n",
    "\n",
    "hidden_layer_weights = [\n",
    "                            [[16,41],[15,36]],\n",
    "                            [[23,40],[25,35]],\n",
    "                            [[33,39],[32,34]]\n",
    "                       ]\n",
    "\n",
    "output_layer_bias = [\n",
    "                        [42,43],\n",
    "                        [37,38]\n",
    "                    ]"
   ]
  },
  {
   "cell_type": "code",
   "execution_count": 108,
   "metadata": {},
   "outputs": [],
   "source": [
    "def map_weight_to_led(coefs, led_map):\n",
    "    leds = []\n",
    "    for i,v in enumerate(led_map):\n",
    "        for i2,v2 in enumerate(v):\n",
    "            print(i,i2,v2,coefs[i][i2])\n",
    "            for led in v2:\n",
    "                leds.append({\"led_num\":led, \"val\":coefs[i][i2]})\n",
    "    return leds\n",
    "\n",
    "def map_bias_to_led(bias, led_map):\n",
    "    leds = []\n",
    "    for i,v in enumerate(led_map):\n",
    "        print(i,v,bias[i])\n",
    "        for led in v:\n",
    "            leds.append({\"led_num\":led, \"val\":bias[i]})\n",
    "    return leds\n",
    "\n",
    "def make_led_coef_vals(clf):\n",
    "    leds = []\n",
    "    leds += map_weight_to_led(clf.coefs_[0], input_layer_weights)\n",
    "    leds += map_weight_to_led(clf.coefs_[1], hidden_layer_weights)\n",
    "    leds += map_bias_to_led(clf.intercepts_[0], hidden_layer_bias)\n",
    "    leds += map_bias_to_led(clf.intercepts_[0], output_layer_bias)\n",
    "    return leds"
   ]
  },
  {
   "cell_type": "code",
   "execution_count": 109,
   "metadata": {},
   "outputs": [
    {
     "name": "stdout",
     "output_type": "stream",
     "text": [
      "0 0 [16, 41] 0.0850423770945\n",
      "0 1 [15, 36] -0.177034229022\n",
      "1 0 [23, 40] 0.405791651524\n",
      "1 1 [25, 35] -0.647506387982\n",
      "2 0 [33, 39] 0.828405749149\n",
      "2 1 [32, 34] -1.03543184533\n"
     ]
    },
    {
     "data": {
      "text/plain": [
       "[{'led_num': 16, 'val': 0.085042377094536728},\n",
       " {'led_num': 41, 'val': 0.085042377094536728},\n",
       " {'led_num': 15, 'val': -0.17703422902163454},\n",
       " {'led_num': 36, 'val': -0.17703422902163454},\n",
       " {'led_num': 23, 'val': 0.40579165152433216},\n",
       " {'led_num': 40, 'val': 0.40579165152433216},\n",
       " {'led_num': 25, 'val': -0.6475063879820655},\n",
       " {'led_num': 35, 'val': -0.6475063879820655},\n",
       " {'led_num': 33, 'val': 0.82840574914925591},\n",
       " {'led_num': 39, 'val': 0.82840574914925591},\n",
       " {'led_num': 32, 'val': -1.0354318453310034},\n",
       " {'led_num': 34, 'val': -1.0354318453310034}]"
      ]
     },
     "execution_count": 109,
     "metadata": {},
     "output_type": "execute_result"
    }
   ],
   "source": [
    "map_weight_to_led(clf.coefs_[1], hidden_layer_weights)"
   ]
  },
  {
   "cell_type": "code",
   "execution_count": 110,
   "metadata": {},
   "outputs": [
    {
     "name": "stdout",
     "output_type": "stream",
     "text": [
      "0 [13, 14] -0.687369437661\n",
      "1 [21, 22] -0.338359494253\n",
      "2 [29, 30] -0.226171132128\n"
     ]
    },
    {
     "data": {
      "text/plain": [
       "[{'led_num': 13, 'val': -0.68736943766140923},\n",
       " {'led_num': 14, 'val': -0.68736943766140923},\n",
       " {'led_num': 21, 'val': -0.33835949425288125},\n",
       " {'led_num': 22, 'val': -0.33835949425288125},\n",
       " {'led_num': 29, 'val': -0.22617113212838169},\n",
       " {'led_num': 30, 'val': -0.22617113212838169}]"
      ]
     },
     "execution_count": 110,
     "metadata": {},
     "output_type": "execute_result"
    }
   ],
   "source": [
    "map_bias_to_led(clf.intercepts_[0],hidden_layer_bias)"
   ]
  },
  {
   "cell_type": "code",
   "execution_count": 113,
   "metadata": {},
   "outputs": [
    {
     "name": "stdout",
     "output_type": "stream",
     "text": [
      "0 0 [0, 11] -0.181793913059\n",
      "0 1 [1, 18] 0.48270209062\n",
      "0 2 [2, 26] -1.09518389253\n",
      "1 0 [5, 12] -0.433063428162\n",
      "1 1 [6, 20] -0.773911548997\n",
      "1 2 [7, 27] -0.893132713009\n",
      "0 0 [16, 41] 0.0850423770945\n",
      "0 1 [15, 36] -0.177034229022\n",
      "1 0 [23, 40] 0.405791651524\n",
      "1 1 [25, 35] -0.647506387982\n",
      "2 0 [33, 39] 0.828405749149\n",
      "2 1 [32, 34] -1.03543184533\n",
      "0 [13, 14] -0.687369437661\n",
      "1 [21, 22] -0.338359494253\n",
      "2 [29, 30] -0.226171132128\n",
      "0 [42, 43] -0.687369437661\n",
      "1 [37, 38] -0.338359494253\n"
     ]
    },
    {
     "data": {
      "text/plain": [
       "[{'led_num': 0, 'val': -0.18179391305878864},\n",
       " {'led_num': 1, 'val': 0.48270209062025637},\n",
       " {'led_num': 2, 'val': -1.0951838925254538},\n",
       " {'led_num': 5, 'val': -0.43306342816209792},\n",
       " {'led_num': 6, 'val': -0.77391154899731696},\n",
       " {'led_num': 7, 'val': -0.89313271300883934},\n",
       " {'led_num': 11, 'val': -0.18179391305878864},\n",
       " {'led_num': 12, 'val': -0.43306342816209792},\n",
       " {'led_num': 13, 'val': -0.68736943766140923},\n",
       " {'led_num': 14, 'val': -0.68736943766140923},\n",
       " {'led_num': 15, 'val': -0.17703422902163454},\n",
       " {'led_num': 16, 'val': 0.085042377094536728},\n",
       " {'led_num': 18, 'val': 0.48270209062025637},\n",
       " {'led_num': 20, 'val': -0.77391154899731696},\n",
       " {'led_num': 21, 'val': -0.33835949425288125},\n",
       " {'led_num': 22, 'val': -0.33835949425288125},\n",
       " {'led_num': 23, 'val': 0.40579165152433216},\n",
       " {'led_num': 25, 'val': -0.6475063879820655},\n",
       " {'led_num': 26, 'val': -1.0951838925254538},\n",
       " {'led_num': 27, 'val': -0.89313271300883934},\n",
       " {'led_num': 29, 'val': -0.22617113212838169},\n",
       " {'led_num': 30, 'val': -0.22617113212838169},\n",
       " {'led_num': 32, 'val': -1.0354318453310034},\n",
       " {'led_num': 33, 'val': 0.82840574914925591},\n",
       " {'led_num': 34, 'val': -1.0354318453310034},\n",
       " {'led_num': 35, 'val': -0.6475063879820655},\n",
       " {'led_num': 36, 'val': -0.17703422902163454},\n",
       " {'led_num': 37, 'val': -0.33835949425288125},\n",
       " {'led_num': 38, 'val': -0.33835949425288125},\n",
       " {'led_num': 39, 'val': 0.82840574914925591},\n",
       " {'led_num': 40, 'val': 0.40579165152433216},\n",
       " {'led_num': 41, 'val': 0.085042377094536728},\n",
       " {'led_num': 42, 'val': -0.68736943766140923},\n",
       " {'led_num': 43, 'val': -0.68736943766140923}]"
      ]
     },
     "execution_count": 113,
     "metadata": {},
     "output_type": "execute_result"
    }
   ],
   "source": [
    "f = make_led_coef_vals(clf)\n",
    "sorted(f, key=lambda k: k['led_num']) "
   ]
  },
  {
   "cell_type": "code",
   "execution_count": null,
   "metadata": {
    "collapsed": true
   },
   "outputs": [],
   "source": []
  }
 ],
 "metadata": {
  "anaconda-cloud": {},
  "kernelspec": {
   "display_name": "Python [default]",
   "language": "python",
   "name": "python3"
  },
  "language_info": {
   "codemirror_mode": {
    "name": "ipython",
    "version": 3
   },
   "file_extension": ".py",
   "mimetype": "text/x-python",
   "name": "python",
   "nbconvert_exporter": "python",
   "pygments_lexer": "ipython3",
   "version": "3.5.2"
  }
 },
 "nbformat": 4,
 "nbformat_minor": 1
}
