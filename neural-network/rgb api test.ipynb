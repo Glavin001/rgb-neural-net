{
 "cells": [
  {
   "cell_type": "code",
   "execution_count": 1,
   "metadata": {
    "collapsed": false
   },
   "outputs": [],
   "source": [
    "import random\n",
    "import time"
   ]
  },
  {
   "cell_type": "code",
   "execution_count": 1,
   "metadata": {
    "collapsed": false
   },
   "outputs": [],
   "source": [
    "import json\n",
    "import urllib.request\n",
    "\n",
    "server_loc = 'http://192.168.1.153:5000'\n",
    "url = server_loc +'/change_leds'"
   ]
  },
  {
   "cell_type": "code",
   "execution_count": 2,
   "metadata": {
    "collapsed": true
   },
   "outputs": [],
   "source": [
    "def send_led_json(led_json):\n",
    "    params = json.dumps(led_json).encode('utf8')\n",
    "    req = urllib.request.Request(url, data=params,\n",
    "                              headers={'content-type': 'application/json'})\n",
    "    response = urllib.request.urlopen(req)"
   ]
  },
  {
   "cell_type": "code",
   "execution_count": 3,
   "metadata": {
    "collapsed": true
   },
   "outputs": [],
   "source": [
    "newConditions = {\n",
    "    \"leds\":[\n",
    "        { \"red\": 0, \"green\": 200, \"blue\": 100, \"led_num\": 1 },\n",
    "        { \"red\": 0, \"green\": 50, \"blue\": 100, \"led_num\": 2 },\n",
    "        { \"red\": 0, \"green\": 50, \"blue\": 100, \"led_num\": 3 },\n",
    "        { \"red\": 0, \"green\": 50, \"blue\": 100, \"led_num\": 4 },\n",
    "        { \"red\": 0, \"green\": 50, \"blue\": 100, \"led_num\": 5 },\n",
    "        { \"red\": 0, \"green\": 50, \"blue\": 100, \"led_num\": 6 }\n",
    "    ]\n",
    "}\n",
    "send_led_json(newConditions)"
   ]
  },
  {
   "cell_type": "code",
   "execution_count": 11,
   "metadata": {
    "collapsed": true
   },
   "outputs": [],
   "source": [
    "led_num = 44\n",
    "real_leds = {\"leds\":[]}\n",
    "\n",
    "for i in range(led_num):\n",
    "    real_leds['leds'].append({ \"red\": 0, \"green\": 0, \"blue\": 0, \"led_num\": i })"
   ]
  },
  {
   "cell_type": "code",
   "execution_count": 12,
   "metadata": {
    "collapsed": true
   },
   "outputs": [],
   "source": [
    "newConditions = real_leds"
   ]
  },
  {
   "cell_type": "code",
   "execution_count": 74,
   "metadata": {
    "collapsed": false,
    "scrolled": true
   },
   "outputs": [],
   "source": [
    "for i in range(3):\n",
    "    time.sleep(1)\n",
    "    for led in newConditions['leds']:\n",
    "        led['red'] = random.randint(0,255)\n",
    "        led['green'] = random.randint(0,255)\n",
    "        led['blue'] = random.randint(0,255)\n",
    "    send_led_json(newConditions)"
   ]
  },
  {
   "cell_type": "code",
   "execution_count": 13,
   "metadata": {
    "collapsed": true
   },
   "outputs": [],
   "source": [
    "def turn_off():\n",
    "    for led in newConditions['leds']:\n",
    "        led['red'] = 0\n",
    "        led['green'] = 0\n",
    "        led['blue'] = 0\n",
    "    send_led_json(newConditions)"
   ]
  },
  {
   "cell_type": "code",
   "execution_count": 15,
   "metadata": {
    "collapsed": true
   },
   "outputs": [],
   "source": [
    "turn_off()"
   ]
  },
  {
   "cell_type": "code",
   "execution_count": 10,
   "metadata": {
    "collapsed": false
   },
   "outputs": [],
   "source": [
    "offs = [12, 15, 19, 24, 26, 33]"
   ]
  },
  {
   "cell_type": "code",
   "execution_count": 11,
   "metadata": {
    "collapsed": true
   },
   "outputs": [],
   "source": [
    "# x = 0\n",
    "# for i in range(10):\n",
    "#     time.sleep(0.5)\n",
    "#     for led in newConditions['leds']:\n",
    "#         led['red'] = x\n",
    "#         led['green'] = 0\n",
    "#         led['blue'] = x\n",
    "#     newConditions['leds'] = [l for l in newConditions['leds'] if l['led_num'] not in offs]\n",
    "#     send_led_json(newConditions)\n",
    "#     x += 5"
   ]
  },
  {
   "cell_type": "code",
   "execution_count": 12,
   "metadata": {
    "collapsed": true
   },
   "outputs": [],
   "source": [
    "# v = {\n",
    "#     \"leds\":[\n",
    "#         { \"red\": 0, \"green\": 0, \"blue\": 0, \"led_num\": 12 },\n",
    "#         { \"red\": 0, \"green\": 0, \"blue\": 0, \"led_num\": 15 },\n",
    "#         { \"red\": 0, \"green\": 0, \"blue\": 0, \"led_num\": 19 },\n",
    "#         { \"red\": 0, \"green\": 0, \"blue\": 0, \"led_num\": 24 },\n",
    "#         { \"red\": 0, \"green\": 0, \"blue\": 0, \"led_num\": 26 },\n",
    "#         { \"red\": 0, \"green\": 0, \"blue\": 0, \"led_num\": 33 },\n",
    "#     ]\n",
    "# }\n",
    "# send_led_json(v)"
   ]
  },
  {
   "cell_type": "code",
   "execution_count": 12,
   "metadata": {
    "collapsed": false
   },
   "outputs": [
    {
     "name": "stdout",
     "output_type": "stream",
     "text": [
      "[5, 11]\n",
      "[6, 20]\n",
      "[7, 28]\n",
      "[0, 10]\n",
      "[1, 18]\n",
      "[2, 27]\n",
      "[16, 41]\n",
      "[15, 36]\n",
      "[23, 40]\n",
      "[25, 35]\n",
      "[31, 39]\n",
      "[32, 34]\n"
     ]
    }
   ],
   "source": [
    "import led_map"
   ]
  },
  {
   "cell_type": "code",
   "execution_count": 53,
   "metadata": {
    "collapsed": false
   },
   "outputs": [
    {
     "name": "stdout",
     "output_type": "stream",
     "text": [
      "[8, 9]\n",
      "[3, 4]\n",
      "[13, 14]\n",
      "[21, 22]\n",
      "[29, 30]\n",
      "[42, 43]\n",
      "[37, 38]\n"
     ]
    }
   ],
   "source": [
    "for i in led_map.bias_index:\n",
    "    time.sleep(0.2)\n",
    "    turn_off()\n",
    "    print(i)\n",
    "    time.sleep(0.2)\n",
    "    send = {\n",
    "        \"leds\":[\n",
    "            { \"red\": 0, \"green\": 100, \"blue\": 0, \"led_num\": i[0] },\n",
    "            { \"red\": 0, \"green\": 100, \"blue\": 0, \"led_num\": i[1] }\n",
    "        ]\n",
    "    }\n",
    "    send_led_json(send)"
   ]
  },
  {
   "cell_type": "code",
   "execution_count": 4,
   "metadata": {
    "collapsed": true
   },
   "outputs": [],
   "source": [
    "def on_off(leds):\n",
    "    \n",
    "    pak = []\n",
    "    \n",
    "    for led in leds:\n",
    "        pak.append({ \"red\": 0, \"green\": 100, \"blue\": 0, \"led_num\": led })\n",
    "    \n",
    "    send = {\n",
    "        \"leds\":pak\n",
    "    }\n",
    "    send_led_json(send)\n",
    "    time.sleep(1)\n",
    "    turn_off()"
   ]
  },
  {
   "cell_type": "code",
   "execution_count": 10,
   "metadata": {
    "collapsed": false
   },
   "outputs": [],
   "source": [
    "turn_off()"
   ]
  },
  {
   "cell_type": "code",
   "execution_count": 82,
   "metadata": {
    "collapsed": true
   },
   "outputs": [],
   "source": [
    "send_leds = [{'blue': 0, 'green': 87, 'led_num': 16, 'red': 255},\n",
    " {'blue': 0, 'green': 87, 'led_num': 41, 'red': 255},\n",
    " {'blue': 0, 'green': 0, 'led_num': 15, 'red': 255},\n",
    " {'blue': 0, 'green': 0, 'led_num': 36, 'red': 255},\n",
    " {'blue': 0, 'green': 255, 'led_num': 23, 'red': 94},\n",
    " {'blue': 0, 'green': 255, 'led_num': 40, 'red': 94},\n",
    " {'blue': 255, 'green': 0, 'led_num': 25, 'red': 0},\n",
    " {'blue': 255, 'green': 0, 'led_num': 35, 'red': 0},\n",
    " {'blue': 255, 'green': 170, 'led_num': 31, 'red': 0},\n",
    " {'blue': 255, 'green': 170, 'led_num': 39, 'red': 0},\n",
    " {'blue': 0, 'green': 255, 'led_num': 32, 'red': 0},\n",
    " {'blue': 0, 'green': 255, 'led_num': 34, 'red': 0}]"
   ]
  },
  {
   "cell_type": "code",
   "execution_count": 83,
   "metadata": {
    "collapsed": false
   },
   "outputs": [],
   "source": [
    "send_led_json({\"leds\":send_leds})"
   ]
  },
  {
   "cell_type": "code",
   "execution_count": 23,
   "metadata": {
    "collapsed": true
   },
   "outputs": [],
   "source": [
    "import colorsys\n",
    "\n",
    "def val_to_rgb(val):\n",
    "    i = val*0.67\n",
    "    c = colorsys.hsv_to_rgb(i,1,1)\n",
    "    return [int(color*255) for color in c]"
   ]
  },
  {
   "cell_type": "code",
   "execution_count": 19,
   "metadata": {
    "collapsed": false
   },
   "outputs": [
    {
     "data": {
      "text/plain": [
       "[0, 255, 2]"
      ]
     },
     "execution_count": 19,
     "metadata": {},
     "output_type": "execute_result"
    }
   ],
   "source": [
    "val_to_rgb(0.5)"
   ]
  },
  {
   "cell_type": "code",
   "execution_count": 85,
   "metadata": {
    "collapsed": true
   },
   "outputs": [],
   "source": [
    "on_off([0,1])"
   ]
  },
  {
   "cell_type": "code",
   "execution_count": null,
   "metadata": {
    "collapsed": true
   },
   "outputs": [],
   "source": [
    "clf."
   ]
  }
 ],
 "metadata": {
  "kernelspec": {
   "display_name": "Python 3",
   "language": "python",
   "name": "python3"
  },
  "language_info": {
   "codemirror_mode": {
    "name": "ipython",
    "version": 3
   },
   "file_extension": ".py",
   "mimetype": "text/x-python",
   "name": "python",
   "nbconvert_exporter": "python",
   "pygments_lexer": "ipython3",
   "version": "3.5.2"
  }
 },
 "nbformat": 4,
 "nbformat_minor": 0
}
