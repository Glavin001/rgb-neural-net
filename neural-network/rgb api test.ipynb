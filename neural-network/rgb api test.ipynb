{
 "cells": [
  {
   "cell_type": "code",
   "execution_count": 58,
   "metadata": {
    "collapsed": true
   },
   "outputs": [],
   "source": [
    "import random\n",
    "import time"
   ]
  },
  {
   "cell_type": "code",
   "execution_count": 9,
   "metadata": {
    "collapsed": false
   },
   "outputs": [],
   "source": [
    "import json\n",
    "import urllib.request\n",
    "\n",
    "server_loc = 'http://192.168.1.154:5000'\n",
    "url = server_loc +'/change_leds'"
   ]
  },
  {
   "cell_type": "code",
   "execution_count": 59,
   "metadata": {
    "collapsed": true
   },
   "outputs": [],
   "source": [
    "def send_led_json(led_json):\n",
    "    params = json.dumps(led_json).encode('utf8')\n",
    "    req = urllib.request.Request(url, data=params,\n",
    "                              headers={'content-type': 'application/json'})\n",
    "    response = urllib.request.urlopen(req)"
   ]
  },
  {
   "cell_type": "code",
   "execution_count": 11,
   "metadata": {
    "collapsed": true
   },
   "outputs": [],
   "source": [
    "newConditions = {\n",
    "    \"leds\":[\n",
    "        { \"red\": 0, \"green\": 200, \"blue\": 100, \"led_num\": 1 },\n",
    "        { \"red\": 0, \"green\": 50, \"blue\": 100, \"led_num\": 2 },\n",
    "        { \"red\": 0, \"green\": 50, \"blue\": 100, \"led_num\": 3 },\n",
    "        { \"red\": 0, \"green\": 50, \"blue\": 100, \"led_num\": 4 },\n",
    "        { \"red\": 0, \"green\": 50, \"blue\": 100, \"led_num\": 5 },\n",
    "        { \"red\": 0, \"green\": 50, \"blue\": 100, \"led_num\": 6 }\n",
    "    ]\n",
    "}\n",
    "send_led_json(newConditions)"
   ]
  },
  {
   "cell_type": "code",
   "execution_count": 57,
   "metadata": {
    "collapsed": false,
    "scrolled": true
   },
   "outputs": [
    {
     "name": "stdout",
     "output_type": "stream",
     "text": [
      "Done\n",
      "Done\n",
      "Done\n",
      "Done\n",
      "Done\n",
      "Done\n",
      "Done\n",
      "Done\n",
      "Done\n",
      "Done\n",
      "Done\n",
      "Done\n",
      "Done\n",
      "Done\n",
      "Done\n",
      "Done\n",
      "Done\n",
      "Done\n",
      "Done\n",
      "Done\n",
      "Done\n",
      "Done\n",
      "Done\n",
      "Done\n",
      "Done\n",
      "Done\n",
      "Done\n",
      "Done\n",
      "Done\n",
      "Done\n",
      "Done\n",
      "Done\n",
      "Done\n",
      "Done\n",
      "Done\n",
      "Done\n",
      "Done\n",
      "Done\n",
      "Done\n",
      "Done\n",
      "Done\n",
      "Done\n",
      "Done\n",
      "Done\n",
      "Done\n",
      "Done\n",
      "Done\n",
      "Done\n",
      "Done\n",
      "Done\n",
      "Done\n",
      "Done\n",
      "Done\n",
      "Done\n",
      "Done\n",
      "Done\n",
      "Done\n",
      "Done\n",
      "Done\n",
      "Done\n",
      "Done\n",
      "Done\n",
      "Done\n",
      "Done\n",
      "Done\n",
      "Done\n",
      "Done\n",
      "Done\n",
      "Done\n",
      "Done\n",
      "Done\n",
      "Done\n",
      "Done\n",
      "Done\n",
      "Done\n",
      "Done\n",
      "Done\n",
      "Done\n",
      "Done\n",
      "Done\n",
      "Done\n",
      "Done\n",
      "Done\n",
      "Done\n",
      "Done\n",
      "Done\n",
      "Done\n",
      "Done\n",
      "Done\n",
      "Done\n",
      "Done\n",
      "Done\n",
      "Done\n",
      "Done\n",
      "Done\n",
      "Done\n",
      "Done\n",
      "Done\n",
      "Done\n",
      "Done\n"
     ]
    }
   ],
   "source": [
    "for i in range(100):\n",
    "    time.sleep(0.01)\n",
    "    for led in newConditions['leds']:\n",
    "        led['red'] = random.randint(0,255)\n",
    "        led['green'] = random.randint(0,255)\n",
    "        led['blue'] = random.randint(0,255)\n",
    "    send_led_json(newConditions)"
   ]
  },
  {
   "cell_type": "code",
   "execution_count": 20,
   "metadata": {
    "collapsed": false
   },
   "outputs": [
    {
     "data": {
      "text/plain": [
       "{'leds': [{'blue': 244, 'green': 233, 'led_num': 1, 'red': 246},\n",
       "  {'blue': 31, 'green': 0, 'led_num': 2, 'red': 221},\n",
       "  {'blue': 122, 'green': 74, 'led_num': 3, 'red': 236},\n",
       "  {'blue': 103, 'green': 190, 'led_num': 4, 'red': 42},\n",
       "  {'blue': 91, 'green': 6, 'led_num': 5, 'red': 0},\n",
       "  {'blue': 45, 'green': 126, 'led_num': 6, 'red': 183}]}"
      ]
     },
     "execution_count": 20,
     "metadata": {},
     "output_type": "execute_result"
    }
   ],
   "source": [
    "newConditions"
   ]
  },
  {
   "cell_type": "code",
   "execution_count": 18,
   "metadata": {
    "collapsed": false
   },
   "outputs": [
    {
     "data": {
      "text/plain": [
       "205"
      ]
     },
     "execution_count": 18,
     "metadata": {},
     "output_type": "execute_result"
    }
   ],
   "source": [
    "random.randint(0,255)"
   ]
  },
  {
   "cell_type": "code",
   "execution_count": null,
   "metadata": {
    "collapsed": true
   },
   "outputs": [],
   "source": []
  }
 ],
 "metadata": {
  "kernelspec": {
   "display_name": "Python 3",
   "language": "python",
   "name": "python3"
  },
  "language_info": {
   "codemirror_mode": {
    "name": "ipython",
    "version": 3
   },
   "file_extension": ".py",
   "mimetype": "text/x-python",
   "name": "python",
   "nbconvert_exporter": "python",
   "pygments_lexer": "ipython3",
   "version": "3.5.2"
  }
 },
 "nbformat": 4,
 "nbformat_minor": 0
}
