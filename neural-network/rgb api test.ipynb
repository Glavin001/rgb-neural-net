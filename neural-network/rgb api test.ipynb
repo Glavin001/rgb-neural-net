{
 "cells": [
  {
   "cell_type": "code",
   "execution_count": 1,
   "metadata": {
    "collapsed": true
   },
   "outputs": [],
   "source": [
    "import random\n",
    "import time"
   ]
  },
  {
   "cell_type": "code",
   "execution_count": 2,
   "metadata": {
    "collapsed": false
   },
   "outputs": [],
   "source": [
    "import json\n",
    "import urllib.request\n",
    "\n",
    "server_loc = 'http://192.168.1.154:5000'\n",
    "url = server_loc +'/change_leds'"
   ]
  },
  {
   "cell_type": "code",
   "execution_count": 3,
   "metadata": {
    "collapsed": true
   },
   "outputs": [],
   "source": [
    "def send_led_json(led_json):\n",
    "    params = json.dumps(led_json).encode('utf8')\n",
    "    req = urllib.request.Request(url, data=params,\n",
    "                              headers={'content-type': 'application/json'})\n",
    "    response = urllib.request.urlopen(req)"
   ]
  },
  {
   "cell_type": "code",
   "execution_count": 4,
   "metadata": {
    "collapsed": true
   },
   "outputs": [],
   "source": [
    "newConditions = {\n",
    "    \"leds\":[\n",
    "        { \"red\": 0, \"green\": 200, \"blue\": 100, \"led_num\": 1 },\n",
    "        { \"red\": 0, \"green\": 50, \"blue\": 100, \"led_num\": 2 },\n",
    "        { \"red\": 0, \"green\": 50, \"blue\": 100, \"led_num\": 3 },\n",
    "        { \"red\": 0, \"green\": 50, \"blue\": 100, \"led_num\": 4 },\n",
    "        { \"red\": 0, \"green\": 50, \"blue\": 100, \"led_num\": 5 },\n",
    "        { \"red\": 0, \"green\": 50, \"blue\": 100, \"led_num\": 6 }\n",
    "    ]\n",
    "}\n",
    "send_led_json(newConditions)"
   ]
  },
  {
   "cell_type": "code",
   "execution_count": 5,
   "metadata": {
    "collapsed": false,
    "scrolled": true
   },
   "outputs": [],
   "source": [
    "for i in range(100):\n",
    "    time.sleep(0.01)\n",
    "    for led in newConditions['leds']:\n",
    "        led['red'] = random.randint(0,255)\n",
    "        led['green'] = random.randint(0,255)\n",
    "        led['blue'] = random.randint(0,255)\n",
    "    send_led_json(newConditions)"
   ]
  }
 ],
 "metadata": {
  "kernelspec": {
   "display_name": "Python 3",
   "language": "python",
   "name": "python3"
  },
  "language_info": {
   "codemirror_mode": {
    "name": "ipython",
    "version": 3
   },
   "file_extension": ".py",
   "mimetype": "text/x-python",
   "name": "python",
   "nbconvert_exporter": "python",
   "pygments_lexer": "ipython3",
   "version": "3.5.2"
  }
 },
 "nbformat": 4,
 "nbformat_minor": 0
}
